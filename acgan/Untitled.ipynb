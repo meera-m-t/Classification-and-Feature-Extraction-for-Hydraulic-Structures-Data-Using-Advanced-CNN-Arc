{
 "cells": [
  {
   "cell_type": "code",
   "execution_count": 2,
   "metadata": {},
   "outputs": [],
   "source": [
    "import numpy as np\n",
    "from PIL import Image\n",
    "import matplotlib.pyplot as plt\n",
    "# img_array = np.load('/home/roboticslab/Auxiliary-Classifier-GAN/images/dcgan_generated_image.npy')\n",
    "# # img_array=img_array[75:100]\n",
    "# print(img_array.shape)\n",
    "# img = (np.concatenate([r.reshape(-1, 100)\n",
    "#                        for r in np.split(img_array,10)\n",
    "#                        ], axis=-1) * 127.5 + 127.5).astype(np.uint8)\n",
    "\n",
    "# Image.fromarray(img).save('generated.png')\n",
    "# plt.imshow(img, cmap='gray')#, interpolation='nearest')\n",
    "# _ = plt.axis('off')"
   ]
  },
  {
   "cell_type": "code",
   "execution_count": 3,
   "metadata": {},
   "outputs": [],
   "source": [
    "import numpy as np\n",
    "from PIL import Image\n",
    "import matplotlib.pyplot as plt\n",
    "# img_array = np.load('/home/roboticslab/Auxiliary-Classifier-GAN/images1/orignal_0.npy')\n",
    "# img_array=img_array[28:]\n",
    "# print(img_array.shape)\n",
    "# img = (np.concatenate([r.reshape(-1, 100)\n",
    "#                        for r in np.split(img_array,10)\n",
    "#                        ], axis=-1) * 127.5 + 127.5).astype(np.uint8)\n",
    "\n",
    "# Image.fromarray(img).save('generated1.png')\n",
    "# plt.imshow(img, cmap='gray')#, interpolation='nearest')\n",
    "# _ = plt.axis('off')"
   ]
  },
  {
   "cell_type": "code",
   "execution_count": 43,
   "metadata": {},
   "outputs": [],
   "source": [
    "img_array = np.load('/home/roboticslab/Auxiliary-Classifier-GAN/images/dcgan_generated_image.npy')\n",
    "\n",
    "for i in range(100):\n",
    "    img=img_array[i].reshape(100,100)\n",
    "    img=(img* 127.5 + 127.5).astype(np.uint8)\n",
    "    Image.fromarray(img).save(\n",
    "            'generated-image/{0:02d}_generated1.png'.format(i))\n",
    "    "
   ]
  },
  {
   "cell_type": "code",
   "execution_count": 42,
   "metadata": {},
   "outputs": [],
   "source": [
    "img_array1 = np.load('/home/roboticslab/Auxiliary-Classifier-GAN/new/images1/orignal_1.npy')\n",
    "\n",
    "for i in range(128):\n",
    "    img=img_array1[i].reshape(100,100)\n",
    "    img=(img* 127.5 + 127.5).astype(np.uint8)\n",
    "    Image.fromarray(img).save(\n",
    "            'original-image/{0:02d}_original1.png'.format(i))"
   ]
  },
  {
   "cell_type": "code",
   "execution_count": null,
   "metadata": {},
   "outputs": [],
   "source": []
  }
 ],
 "metadata": {
  "kernelspec": {
   "display_name": "py3.6",
   "language": "python",
   "name": "py3.6"
  },
  "language_info": {
   "codemirror_mode": {
    "name": "ipython",
    "version": 3
   },
   "file_extension": ".py",
   "mimetype": "text/x-python",
   "name": "python",
   "nbconvert_exporter": "python",
   "pygments_lexer": "ipython3",
   "version": "3.7.10"
  }
 },
 "nbformat": 4,
 "nbformat_minor": 2
}
