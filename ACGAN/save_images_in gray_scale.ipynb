{
 "cells": [
  {
   "cell_type": "code",
   "execution_count": 2,
   "metadata": {},
   "outputs": [],
   "source": [
    "### save the images in the gray scale"
   ]
  },
  {
   "cell_type": "code",
   "execution_count": 3,
   "metadata": {},
   "outputs": [],
   "source": [
    "import numpy as np\n",
    "from PIL import Image\n",
    "import matplotlib.pyplot as plt"
   ]
  },
  {
   "cell_type": "code",
   "execution_count": 43,
   "metadata": {},
   "outputs": [],
   "source": [
    "img_array = np.load('/home/roboticslab/Auxiliary-Classifier-GAN/images/dcgan_generated_image.npy')\n",
    "for i in range(100):\n",
    "    img=img_array[i].reshape(100,100)\n",
    "    img=(img* 127.5 + 127.5).astype(np.uint8)\n",
    "    Image.fromarray(img).save(\n",
    "            'generated-image/{0:02d}_generated1.png'.format(i))\n",
    "    "
   ]
  },
  {
   "cell_type": "code",
   "execution_count": 42,
   "metadata": {},
   "outputs": [],
   "source": [
    "img_array1 = np.load('/home/roboticslab/Auxiliary-Classifier-GAN/new/images1/orignal_1.npy')\n",
    "for i in range(128):\n",
    "    img=img_array1[i].reshape(100,100)\n",
    "    img=(img* 127.5 + 127.5).astype(np.uint8)\n",
    "    Image.fromarray(img).save(\n",
    "            'original-image/{0:02d}_original1.png'.format(i))"
   ]
  },
  {
   "cell_type": "code",
   "execution_count": null,
   "metadata": {},
   "outputs": [],
   "source": []
  }
 ],
 "metadata": {
  "kernelspec": {
   "display_name": "py3.6",
   "language": "python",
   "name": "py3.6"
  },
  "language_info": {
   "codemirror_mode": {
    "name": "ipython",
    "version": 3
   },
   "file_extension": ".py",
   "mimetype": "text/x-python",
   "name": "python",
   "nbconvert_exporter": "python",
   "pygments_lexer": "ipython3",
   "version": "3.8.8"
  }
 },
 "nbformat": 4,
 "nbformat_minor": 2
}
